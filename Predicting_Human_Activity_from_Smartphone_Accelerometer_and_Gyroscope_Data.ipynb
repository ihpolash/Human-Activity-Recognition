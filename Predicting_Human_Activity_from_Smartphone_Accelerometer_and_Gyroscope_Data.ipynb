{
  "nbformat": 4,
  "nbformat_minor": 0,
  "metadata": {
    "colab": {
      "name": "Predicting Human Activity from Smartphone Accelerometer and Gyroscope Data.ipynb",
      "provenance": [],
      "collapsed_sections": [],
      "toc_visible": true
    },
    "kernelspec": {
      "name": "python3",
      "display_name": "Python 3"
    },
    "accelerator": "TPU"
  },
  "cells": [
    {
      "cell_type": "code",
      "metadata": {
        "id": "aRQLIh7350EC",
        "outputId": "a2124418-fb08-4ed5-d733-66101b722358",
        "colab": {
          "base_uri": "https://localhost:8080/",
          "height": 208
        }
      },
      "source": [
        "!wget https://archive.ics.uci.edu/ml/machine-learning-databases/00341/HAPT%20Data%20Set.zip"
      ],
      "execution_count": null,
      "outputs": [
        {
          "output_type": "stream",
          "text": [
            "--2020-06-03 12:36:21--  https://archive.ics.uci.edu/ml/machine-learning-databases/00341/HAPT%20Data%20Set.zip\n",
            "Resolving archive.ics.uci.edu (archive.ics.uci.edu)... 128.195.10.252\n",
            "Connecting to archive.ics.uci.edu (archive.ics.uci.edu)|128.195.10.252|:443... connected.\n",
            "HTTP request sent, awaiting response... 200 OK\n",
            "Length: 79596192 (76M) [application/x-httpd-php]\n",
            "Saving to: ‘HAPT Data Set.zip’\n",
            "\n",
            "HAPT Data Set.zip   100%[===================>]  75.91M  62.3MB/s    in 1.2s    \n",
            "\n",
            "2020-06-03 12:36:22 (62.3 MB/s) - ‘HAPT Data Set.zip’ saved [79596192/79596192]\n",
            "\n"
          ],
          "name": "stdout"
        }
      ]
    },
    {
      "cell_type": "code",
      "metadata": {
        "id": "i763TDnr6Ddx",
        "outputId": "43759a4c-439b-4787-8269-202e6b128797",
        "colab": {
          "base_uri": "https://localhost:8080/",
          "height": 1000
        }
      },
      "source": [
        "!unzip HAPT\\ Data\\ Set"
      ],
      "execution_count": null,
      "outputs": [
        {
          "output_type": "stream",
          "text": [
            "Archive:  HAPT Data Set.zip\n",
            "  inflating: features_info.txt       \n",
            "  inflating: README.txt              \n",
            "  inflating: RawData/acc_exp01_user01.txt  \n",
            "  inflating: RawData/acc_exp02_user01.txt  \n",
            "  inflating: RawData/acc_exp03_user02.txt  \n",
            "  inflating: RawData/acc_exp04_user02.txt  \n",
            "  inflating: RawData/acc_exp05_user03.txt  \n",
            "  inflating: RawData/acc_exp06_user03.txt  \n",
            "  inflating: RawData/acc_exp07_user04.txt  \n",
            "  inflating: RawData/acc_exp08_user04.txt  \n",
            "  inflating: RawData/acc_exp09_user05.txt  \n",
            "  inflating: RawData/acc_exp10_user05.txt  \n",
            "  inflating: RawData/acc_exp11_user06.txt  \n",
            "  inflating: RawData/acc_exp12_user06.txt  \n",
            "  inflating: RawData/acc_exp13_user07.txt  \n",
            "  inflating: RawData/acc_exp14_user07.txt  \n",
            "  inflating: RawData/acc_exp15_user08.txt  \n",
            "  inflating: RawData/acc_exp16_user08.txt  \n",
            "  inflating: RawData/acc_exp17_user09.txt  \n",
            "  inflating: RawData/acc_exp18_user09.txt  \n",
            "  inflating: RawData/acc_exp19_user10.txt  \n",
            "  inflating: RawData/acc_exp20_user10.txt  \n",
            "  inflating: RawData/acc_exp21_user10.txt  \n",
            "  inflating: RawData/acc_exp22_user11.txt  \n",
            "  inflating: RawData/acc_exp23_user11.txt  \n",
            "  inflating: RawData/acc_exp24_user12.txt  \n",
            "  inflating: RawData/acc_exp25_user12.txt  \n",
            "  inflating: RawData/acc_exp26_user13.txt  \n",
            "  inflating: RawData/acc_exp27_user13.txt  \n",
            "  inflating: RawData/acc_exp28_user14.txt  \n",
            "  inflating: RawData/acc_exp29_user14.txt  \n",
            "  inflating: RawData/acc_exp30_user15.txt  \n",
            "  inflating: RawData/acc_exp31_user15.txt  \n",
            "  inflating: RawData/acc_exp32_user16.txt  \n",
            "  inflating: RawData/acc_exp33_user16.txt  \n",
            "  inflating: RawData/acc_exp34_user17.txt  \n",
            "  inflating: RawData/acc_exp35_user17.txt  \n",
            "  inflating: RawData/acc_exp36_user18.txt  \n",
            "  inflating: RawData/acc_exp37_user18.txt  \n",
            "  inflating: RawData/acc_exp38_user19.txt  \n",
            "  inflating: RawData/acc_exp39_user19.txt  \n",
            "  inflating: RawData/acc_exp40_user20.txt  \n",
            "  inflating: RawData/acc_exp41_user20.txt  \n",
            "  inflating: RawData/acc_exp42_user21.txt  \n",
            "  inflating: RawData/acc_exp43_user21.txt  \n",
            "  inflating: RawData/acc_exp44_user22.txt  \n",
            "  inflating: RawData/acc_exp45_user22.txt  \n",
            "  inflating: RawData/acc_exp46_user23.txt  \n",
            "  inflating: RawData/acc_exp47_user23.txt  \n",
            "  inflating: RawData/acc_exp48_user24.txt  \n",
            "  inflating: RawData/acc_exp49_user24.txt  \n",
            "  inflating: RawData/acc_exp50_user25.txt  \n",
            "  inflating: RawData/acc_exp51_user25.txt  \n",
            "  inflating: RawData/acc_exp52_user26.txt  \n",
            "  inflating: RawData/acc_exp53_user26.txt  \n",
            "  inflating: RawData/acc_exp54_user27.txt  \n",
            "  inflating: RawData/acc_exp55_user27.txt  \n",
            "  inflating: RawData/acc_exp56_user28.txt  \n",
            "  inflating: RawData/acc_exp57_user28.txt  \n",
            "  inflating: RawData/acc_exp58_user29.txt  \n",
            "  inflating: RawData/acc_exp59_user29.txt  \n",
            "  inflating: RawData/acc_exp60_user30.txt  \n",
            "  inflating: RawData/acc_exp61_user30.txt  \n",
            "  inflating: RawData/gyro_exp01_user01.txt  \n",
            "  inflating: RawData/gyro_exp02_user01.txt  \n",
            "  inflating: RawData/gyro_exp03_user02.txt  \n",
            "  inflating: RawData/gyro_exp04_user02.txt  \n",
            "  inflating: RawData/gyro_exp05_user03.txt  \n",
            "  inflating: RawData/gyro_exp06_user03.txt  \n",
            "  inflating: RawData/gyro_exp07_user04.txt  \n",
            "  inflating: RawData/gyro_exp08_user04.txt  \n",
            "  inflating: RawData/gyro_exp09_user05.txt  \n",
            "  inflating: RawData/gyro_exp10_user05.txt  \n",
            "  inflating: RawData/gyro_exp11_user06.txt  \n",
            "  inflating: RawData/gyro_exp12_user06.txt  \n",
            "  inflating: RawData/gyro_exp13_user07.txt  \n",
            "  inflating: RawData/gyro_exp14_user07.txt  \n",
            "  inflating: RawData/gyro_exp15_user08.txt  \n",
            "  inflating: RawData/gyro_exp16_user08.txt  \n",
            "  inflating: RawData/gyro_exp17_user09.txt  \n",
            "  inflating: RawData/gyro_exp18_user09.txt  \n",
            "  inflating: RawData/gyro_exp19_user10.txt  \n",
            "  inflating: RawData/gyro_exp20_user10.txt  \n",
            "  inflating: RawData/gyro_exp21_user10.txt  \n",
            "  inflating: RawData/gyro_exp22_user11.txt  \n",
            "  inflating: RawData/gyro_exp23_user11.txt  \n",
            "  inflating: RawData/gyro_exp24_user12.txt  \n",
            "  inflating: RawData/gyro_exp25_user12.txt  \n",
            "  inflating: RawData/gyro_exp26_user13.txt  \n",
            "  inflating: RawData/gyro_exp27_user13.txt  \n",
            "  inflating: RawData/gyro_exp28_user14.txt  \n",
            "  inflating: RawData/gyro_exp29_user14.txt  \n",
            "  inflating: RawData/gyro_exp30_user15.txt  \n",
            "  inflating: RawData/gyro_exp31_user15.txt  \n",
            "  inflating: RawData/gyro_exp32_user16.txt  \n",
            "  inflating: RawData/gyro_exp33_user16.txt  \n",
            "  inflating: RawData/gyro_exp34_user17.txt  \n",
            "  inflating: RawData/gyro_exp35_user17.txt  \n",
            "  inflating: RawData/gyro_exp36_user18.txt  \n",
            "  inflating: RawData/gyro_exp37_user18.txt  \n",
            "  inflating: RawData/gyro_exp38_user19.txt  \n",
            "  inflating: RawData/gyro_exp39_user19.txt  \n",
            "  inflating: RawData/gyro_exp40_user20.txt  \n",
            "  inflating: RawData/gyro_exp41_user20.txt  \n",
            "  inflating: RawData/gyro_exp42_user21.txt  \n",
            "  inflating: RawData/gyro_exp43_user21.txt  \n",
            "  inflating: RawData/gyro_exp44_user22.txt  \n",
            "  inflating: RawData/gyro_exp45_user22.txt  \n",
            "  inflating: RawData/gyro_exp46_user23.txt  \n",
            "  inflating: RawData/gyro_exp47_user23.txt  \n",
            "  inflating: RawData/gyro_exp48_user24.txt  \n",
            "  inflating: RawData/gyro_exp49_user24.txt  \n",
            "  inflating: RawData/gyro_exp50_user25.txt  \n",
            "  inflating: RawData/gyro_exp51_user25.txt  \n",
            "  inflating: RawData/gyro_exp52_user26.txt  \n",
            "  inflating: RawData/gyro_exp53_user26.txt  \n",
            "  inflating: RawData/gyro_exp54_user27.txt  \n",
            "  inflating: RawData/gyro_exp55_user27.txt  \n",
            "  inflating: RawData/gyro_exp56_user28.txt  \n",
            "  inflating: RawData/gyro_exp57_user28.txt  \n",
            "  inflating: RawData/gyro_exp58_user29.txt  \n",
            "  inflating: RawData/gyro_exp59_user29.txt  \n",
            "  inflating: RawData/gyro_exp60_user30.txt  \n",
            "  inflating: RawData/gyro_exp61_user30.txt  \n",
            "  inflating: RawData/labels.txt      \n",
            "  inflating: Test/subject_id_test.txt  \n",
            "  inflating: Test/X_test.txt         \n",
            "  inflating: Test/y_test.txt         \n",
            "  inflating: Train/subject_id_train.txt  \n",
            "  inflating: Train/X_train.txt       \n",
            "  inflating: Train/y_train.txt       \n",
            "  inflating: activity_labels.txt     \n",
            "  inflating: features.txt            \n"
          ],
          "name": "stdout"
        }
      ]
    },
    {
      "cell_type": "markdown",
      "metadata": {
        "id": "QlP42ZvE9Pfh"
      },
      "source": [
        "## Loading the Accelerometer and Gyroscope Data"
      ]
    },
    {
      "cell_type": "code",
      "metadata": {
        "id": "sxc_zK8U5kSn"
      },
      "source": [
        "import pandas as pd\n",
        "from scipy.spatial.distance import cosine\n",
        "import numpy as np\n",
        "from scipy.sparse import csr_matrix\n",
        "from __future__ import division\n",
        "import matplotlib.pyplot as plt\n",
        "%matplotlib inline\n",
        "\n",
        "# display pandas results to 3 decimal points, not in scientific notation\n",
        "pd.set_option('display.float_format', lambda x: '%.3f' % x)"
      ],
      "execution_count": null,
      "outputs": []
    },
    {
      "cell_type": "code",
      "metadata": {
        "id": "IJMETf6Z5pRj",
        "outputId": "1ccd1527-bc22-4a9d-e49e-b679e5f5ed68",
        "colab": {
          "base_uri": "https://localhost:8080/",
          "height": 426
        }
      },
      "source": [
        "with open('features.txt') as handle:\n",
        "    features = handle.readlines()\n",
        "    features = map(lambda x: x.strip(), features)\n",
        "\n",
        "with open('activity_labels.txt') as handle:\n",
        "    activity_labels = handle.readlines()\n",
        "    activity_labels = map(lambda x: x.strip(), activity_labels)\n",
        "\n",
        "activity_df = pd.DataFrame(activity_labels)\n",
        "activity_df = pd.DataFrame(activity_df[0].str.split(' ').tolist(),\n",
        "                           columns = ['activity_id', 'activity_label'])\n",
        "activity_df"
      ],
      "execution_count": null,
      "outputs": [
        {
          "output_type": "execute_result",
          "data": {
            "text/html": [
              "<div>\n",
              "<style scoped>\n",
              "    .dataframe tbody tr th:only-of-type {\n",
              "        vertical-align: middle;\n",
              "    }\n",
              "\n",
              "    .dataframe tbody tr th {\n",
              "        vertical-align: top;\n",
              "    }\n",
              "\n",
              "    .dataframe thead th {\n",
              "        text-align: right;\n",
              "    }\n",
              "</style>\n",
              "<table border=\"1\" class=\"dataframe\">\n",
              "  <thead>\n",
              "    <tr style=\"text-align: right;\">\n",
              "      <th></th>\n",
              "      <th>activity_id</th>\n",
              "      <th>activity_label</th>\n",
              "    </tr>\n",
              "  </thead>\n",
              "  <tbody>\n",
              "    <tr>\n",
              "      <th>0</th>\n",
              "      <td>1</td>\n",
              "      <td>WALKING</td>\n",
              "    </tr>\n",
              "    <tr>\n",
              "      <th>1</th>\n",
              "      <td>2</td>\n",
              "      <td>WALKING_UPSTAIRS</td>\n",
              "    </tr>\n",
              "    <tr>\n",
              "      <th>2</th>\n",
              "      <td>3</td>\n",
              "      <td>WALKING_DOWNSTAIRS</td>\n",
              "    </tr>\n",
              "    <tr>\n",
              "      <th>3</th>\n",
              "      <td>4</td>\n",
              "      <td>SITTING</td>\n",
              "    </tr>\n",
              "    <tr>\n",
              "      <th>4</th>\n",
              "      <td>5</td>\n",
              "      <td>STANDING</td>\n",
              "    </tr>\n",
              "    <tr>\n",
              "      <th>5</th>\n",
              "      <td>6</td>\n",
              "      <td>LAYING</td>\n",
              "    </tr>\n",
              "    <tr>\n",
              "      <th>6</th>\n",
              "      <td>7</td>\n",
              "      <td>STAND_TO_SIT</td>\n",
              "    </tr>\n",
              "    <tr>\n",
              "      <th>7</th>\n",
              "      <td>8</td>\n",
              "      <td>SIT_TO_STAND</td>\n",
              "    </tr>\n",
              "    <tr>\n",
              "      <th>8</th>\n",
              "      <td>9</td>\n",
              "      <td>SIT_TO_LIE</td>\n",
              "    </tr>\n",
              "    <tr>\n",
              "      <th>9</th>\n",
              "      <td>10</td>\n",
              "      <td>LIE_TO_SIT</td>\n",
              "    </tr>\n",
              "    <tr>\n",
              "      <th>10</th>\n",
              "      <td>11</td>\n",
              "      <td>STAND_TO_LIE</td>\n",
              "    </tr>\n",
              "    <tr>\n",
              "      <th>11</th>\n",
              "      <td>12</td>\n",
              "      <td>LIE_TO_STAND</td>\n",
              "    </tr>\n",
              "  </tbody>\n",
              "</table>\n",
              "</div>"
            ],
            "text/plain": [
              "   activity_id      activity_label\n",
              "0            1             WALKING\n",
              "1            2    WALKING_UPSTAIRS\n",
              "2            3  WALKING_DOWNSTAIRS\n",
              "3            4             SITTING\n",
              "4            5            STANDING\n",
              "5            6              LAYING\n",
              "6            7        STAND_TO_SIT\n",
              "7            8        SIT_TO_STAND\n",
              "8            9          SIT_TO_LIE\n",
              "9           10          LIE_TO_SIT\n",
              "10          11        STAND_TO_LIE\n",
              "11          12        LIE_TO_STAND"
            ]
          },
          "metadata": {
            "tags": []
          },
          "execution_count": 5
        }
      ]
    },
    {
      "cell_type": "code",
      "metadata": {
        "id": "3mmq-Xe46Xg5",
        "outputId": "8c902648-3455-4d1e-e3a9-7c03fbccace2",
        "colab": {
          "base_uri": "https://localhost:8080/",
          "height": 206
        }
      },
      "source": [
        "x_train = pd.read_table('Train/X_train.txt', header = None, sep = \" \")\n",
        "x_train.iloc[:10, :10].head()"
      ],
      "execution_count": null,
      "outputs": [
        {
          "output_type": "execute_result",
          "data": {
            "text/html": [
              "<div>\n",
              "<style scoped>\n",
              "    .dataframe tbody tr th:only-of-type {\n",
              "        vertical-align: middle;\n",
              "    }\n",
              "\n",
              "    .dataframe tbody tr th {\n",
              "        vertical-align: top;\n",
              "    }\n",
              "\n",
              "    .dataframe thead th {\n",
              "        text-align: right;\n",
              "    }\n",
              "</style>\n",
              "<table border=\"1\" class=\"dataframe\">\n",
              "  <thead>\n",
              "    <tr style=\"text-align: right;\">\n",
              "      <th></th>\n",
              "      <th>0</th>\n",
              "      <th>1</th>\n",
              "      <th>2</th>\n",
              "      <th>3</th>\n",
              "      <th>4</th>\n",
              "      <th>5</th>\n",
              "      <th>6</th>\n",
              "      <th>7</th>\n",
              "      <th>8</th>\n",
              "      <th>9</th>\n",
              "    </tr>\n",
              "  </thead>\n",
              "  <tbody>\n",
              "    <tr>\n",
              "      <th>0</th>\n",
              "      <td>0.044</td>\n",
              "      <td>-0.006</td>\n",
              "      <td>-0.035</td>\n",
              "      <td>-0.995</td>\n",
              "      <td>-0.988</td>\n",
              "      <td>-0.937</td>\n",
              "      <td>-0.995</td>\n",
              "      <td>-0.989</td>\n",
              "      <td>-0.953</td>\n",
              "      <td>-0.795</td>\n",
              "    </tr>\n",
              "    <tr>\n",
              "      <th>1</th>\n",
              "      <td>0.039</td>\n",
              "      <td>-0.002</td>\n",
              "      <td>-0.029</td>\n",
              "      <td>-0.998</td>\n",
              "      <td>-0.983</td>\n",
              "      <td>-0.971</td>\n",
              "      <td>-0.999</td>\n",
              "      <td>-0.983</td>\n",
              "      <td>-0.974</td>\n",
              "      <td>-0.803</td>\n",
              "    </tr>\n",
              "    <tr>\n",
              "      <th>2</th>\n",
              "      <td>0.040</td>\n",
              "      <td>-0.005</td>\n",
              "      <td>-0.023</td>\n",
              "      <td>-0.995</td>\n",
              "      <td>-0.977</td>\n",
              "      <td>-0.985</td>\n",
              "      <td>-0.996</td>\n",
              "      <td>-0.976</td>\n",
              "      <td>-0.986</td>\n",
              "      <td>-0.798</td>\n",
              "    </tr>\n",
              "    <tr>\n",
              "      <th>3</th>\n",
              "      <td>0.040</td>\n",
              "      <td>-0.012</td>\n",
              "      <td>-0.029</td>\n",
              "      <td>-0.996</td>\n",
              "      <td>-0.989</td>\n",
              "      <td>-0.993</td>\n",
              "      <td>-0.997</td>\n",
              "      <td>-0.989</td>\n",
              "      <td>-0.993</td>\n",
              "      <td>-0.798</td>\n",
              "    </tr>\n",
              "    <tr>\n",
              "      <th>4</th>\n",
              "      <td>0.039</td>\n",
              "      <td>-0.002</td>\n",
              "      <td>-0.024</td>\n",
              "      <td>-0.998</td>\n",
              "      <td>-0.987</td>\n",
              "      <td>-0.993</td>\n",
              "      <td>-0.998</td>\n",
              "      <td>-0.986</td>\n",
              "      <td>-0.994</td>\n",
              "      <td>-0.802</td>\n",
              "    </tr>\n",
              "  </tbody>\n",
              "</table>\n",
              "</div>"
            ],
            "text/plain": [
              "      0      1      2      3      4      5      6      7      8      9\n",
              "0 0.044 -0.006 -0.035 -0.995 -0.988 -0.937 -0.995 -0.989 -0.953 -0.795\n",
              "1 0.039 -0.002 -0.029 -0.998 -0.983 -0.971 -0.999 -0.983 -0.974 -0.803\n",
              "2 0.040 -0.005 -0.023 -0.995 -0.977 -0.985 -0.996 -0.976 -0.986 -0.798\n",
              "3 0.040 -0.012 -0.029 -0.996 -0.989 -0.993 -0.997 -0.989 -0.993 -0.798\n",
              "4 0.039 -0.002 -0.024 -0.998 -0.987 -0.993 -0.998 -0.986 -0.994 -0.802"
            ]
          },
          "metadata": {
            "tags": []
          },
          "execution_count": 6
        }
      ]
    },
    {
      "cell_type": "code",
      "metadata": {
        "id": "HwXNr1Hh6dqk",
        "outputId": "2e930849-d565-49df-fd51-bccd25e87a3a",
        "colab": {
          "base_uri": "https://localhost:8080/",
          "height": 206
        }
      },
      "source": [
        "y_train = pd.read_table('Train/y_train.txt',\n",
        "             header = None, sep = \" \", names = ['activity_id'])\n",
        "y_train.head()"
      ],
      "execution_count": null,
      "outputs": [
        {
          "output_type": "execute_result",
          "data": {
            "text/html": [
              "<div>\n",
              "<style scoped>\n",
              "    .dataframe tbody tr th:only-of-type {\n",
              "        vertical-align: middle;\n",
              "    }\n",
              "\n",
              "    .dataframe tbody tr th {\n",
              "        vertical-align: top;\n",
              "    }\n",
              "\n",
              "    .dataframe thead th {\n",
              "        text-align: right;\n",
              "    }\n",
              "</style>\n",
              "<table border=\"1\" class=\"dataframe\">\n",
              "  <thead>\n",
              "    <tr style=\"text-align: right;\">\n",
              "      <th></th>\n",
              "      <th>activity_id</th>\n",
              "    </tr>\n",
              "  </thead>\n",
              "  <tbody>\n",
              "    <tr>\n",
              "      <th>0</th>\n",
              "      <td>5</td>\n",
              "    </tr>\n",
              "    <tr>\n",
              "      <th>1</th>\n",
              "      <td>5</td>\n",
              "    </tr>\n",
              "    <tr>\n",
              "      <th>2</th>\n",
              "      <td>5</td>\n",
              "    </tr>\n",
              "    <tr>\n",
              "      <th>3</th>\n",
              "      <td>5</td>\n",
              "    </tr>\n",
              "    <tr>\n",
              "      <th>4</th>\n",
              "      <td>5</td>\n",
              "    </tr>\n",
              "  </tbody>\n",
              "</table>\n",
              "</div>"
            ],
            "text/plain": [
              "   activity_id\n",
              "0            5\n",
              "1            5\n",
              "2            5\n",
              "3            5\n",
              "4            5"
            ]
          },
          "metadata": {
            "tags": []
          },
          "execution_count": 7
        }
      ]
    },
    {
      "cell_type": "code",
      "metadata": {
        "id": "IT98ZRZY8r8K"
      },
      "source": [
        "x_test = pd.read_table('Test/X_test.txt',\n",
        "             header = None, sep = \" \")\n",
        "y_test = pd.read_table('Test/y_test.txt',\n",
        "             header = None, sep = \" \", names = ['activity_id'])"
      ],
      "execution_count": null,
      "outputs": []
    },
    {
      "cell_type": "markdown",
      "metadata": {
        "id": "Mj4ygxAm9UAW"
      },
      "source": [
        "## Building a Human Activity Classifier"
      ]
    },
    {
      "cell_type": "code",
      "metadata": {
        "id": "TjPqBk5f9HMk"
      },
      "source": [
        "from sklearn.svm import LinearSVC\n",
        "from sklearn.model_selection import validation_curve, GridSearchCV\n",
        "\n",
        "C_params = np.logspace(-6, 3, 10)\n",
        "clf_svc = LinearSVC(random_state = 12)\n",
        "\n",
        "train_scores, test_scores = validation_curve(\n",
        "    clf_svc, x_train.values, y_train.values.flatten(),\n",
        "    param_name = \"C\", param_range = C_params,\n",
        "    cv = 5, scoring = \"accuracy\", n_jobs = -1)"
      ],
      "execution_count": null,
      "outputs": []
    },
    {
      "cell_type": "code",
      "metadata": {
        "id": "d0uBD89P9Zh-",
        "outputId": "c0aa9b09-3476-430a-ced2-1b419d1ba14b",
        "colab": {
          "base_uri": "https://localhost:8080/",
          "height": 586
        }
      },
      "source": [
        "import seaborn as sns\n",
        "\n",
        "train_scores_mean = np.mean(train_scores, axis=1)\n",
        "train_scores_std = np.std(train_scores, axis=1)\n",
        "test_scores_mean = np.mean(test_scores, axis=1)\n",
        "test_scores_std = np.std(test_scores, axis=1)\n",
        "\n",
        "y_min = 0.5\n",
        "y_max = 1.0\n",
        "\n",
        "sns.set(font_scale = 1.25)\n",
        "sns.set_style(\"darkgrid\")\n",
        "f = plt.figure(figsize = (12, 8))\n",
        "ax = plt.axes()\n",
        "plt.title(\"SVM Training and Validation Accuracy\")\n",
        "plt.xlabel(\"C Value\")\n",
        "plt.ylabel(\"Accuracy\")\n",
        "plt.ylim(y_min, y_max)\n",
        "plt.yticks(np.arange(y_min, y_max + .01, .05))\n",
        "plt.semilogx(C_params, train_scores_mean, label = \"CV Training Accuracy\", color = \"red\")\n",
        "plt.fill_between(C_params, train_scores_mean - train_scores_std,\n",
        "                 train_scores_mean + train_scores_std, alpha = 0.2, color = \"red\")\n",
        "plt.semilogx(C_params, test_scores_mean, label = \"CV Validation Accuracy\",\n",
        "             color = \"green\")\n",
        "plt.fill_between(C_params, test_scores_mean - test_scores_std,\n",
        "                 test_scores_mean + test_scores_std, alpha = 0.2, color = \"green\")\n",
        "plt.legend(loc = \"best\")\n",
        "plt.show()"
      ],
      "execution_count": null,
      "outputs": [
        {
          "output_type": "stream",
          "text": [
            "/usr/local/lib/python3.6/dist-packages/statsmodels/tools/_testing.py:19: FutureWarning: pandas.util.testing is deprecated. Use the functions in the public API at pandas.testing instead.\n",
            "  import pandas.util.testing as tm\n"
          ],
          "name": "stderr"
        },
        {
          "output_type": "display_data",
          "data": {
            "image/png": "[encoded data removed]",
            "text/plain": [
              "<Figure size 864x576 with 1 Axes>"
            ]
          },
          "metadata": {
            "tags": []
          }
        }
      ]
    },
    {
      "cell_type": "code",
      "metadata": {
        "id": "SVAYpzbp-tgh",
        "outputId": "caae115a-01df-4ee3-8716-ca4de748206f",
        "colab": {
          "base_uri": "https://localhost:8080/",
          "height": 52
        }
      },
      "source": [
        "from sklearn.svm import SVC\n",
        "\n",
        "Cs = np.logspace(-6, 3, 10)\n",
        "parameters = [{'kernel': ['rbf'], 'C': Cs},\n",
        "              {'kernel': ['linear'], 'C': Cs}]\n",
        "\n",
        "svc = SVC(random_state = 12)\n",
        "\n",
        "clf = GridSearchCV(estimator = svc, param_grid = parameters, cv = 5, n_jobs = -1)\n",
        "clf.fit(x_train.values, y_train.values.flatten())\n",
        "\n",
        "print(clf.best_params_)\n",
        "print(clf.best_score_)"
      ],
      "execution_count": null,
      "outputs": [
        {
          "output_type": "stream",
          "text": [
            "{'C': 100.0, 'kernel': 'rbf'}\n",
            "0.9380786637064809\n"
          ],
          "name": "stdout"
        }
      ]
    },
    {
      "cell_type": "code",
      "metadata": {
        "id": "sG9j0K5D-ydZ",
        "outputId": "41643a8d-96c7-4626-f538-77f0d5255ea3",
        "colab": {
          "base_uri": "https://localhost:8080/",
          "height": 34
        }
      },
      "source": [
        "clf.score(x_test, y_test)"
      ],
      "execution_count": null,
      "outputs": [
        {
          "output_type": "execute_result",
          "data": {
            "text/plain": [
              "0.9535104364326376"
            ]
          },
          "metadata": {
            "tags": []
          },
          "execution_count": 12
        }
      ]
    },
    {
      "cell_type": "markdown",
      "metadata": {
        "id": "OysLvopkGnUR"
      },
      "source": [
        "## Evaluating the Model"
      ]
    },
    {
      "cell_type": "code",
      "metadata": {
        "id": "NgoC4gugGhEf",
        "outputId": "d43d545a-07a0-44f4-d93a-7e9ba96c2069",
        "colab": {
          "base_uri": "https://localhost:8080/",
          "height": 34
        }
      },
      "source": [
        "y_test.activity_id.value_counts().values[0] / y_test.activity_id.value_counts().values.sum()"
      ],
      "execution_count": null,
      "outputs": [
        {
          "output_type": "execute_result",
          "data": {
            "text/plain": [
              "0.17583807716635041"
            ]
          },
          "metadata": {
            "tags": []
          },
          "execution_count": 13
        }
      ]
    },
    {
      "cell_type": "code",
      "metadata": {
        "id": "83pYt8tkGqp9",
        "outputId": "8b1b0cd8-394f-45eb-b8f7-2178b3256ef7",
        "colab": {
          "base_uri": "https://localhost:8080/",
          "height": 489
        }
      },
      "source": [
        "crosstab = pd.crosstab(y_test.values.flatten(), clf.predict(x_test),\n",
        "                          rownames=['True'], colnames=['Predicted'],\n",
        "                          margins=True)\n",
        "crosstab"
      ],
      "execution_count": null,
      "outputs": [
        {
          "output_type": "execute_result",
          "data": {
            "text/html": [
              "<div>\n",
              "<style scoped>\n",
              "    .dataframe tbody tr th:only-of-type {\n",
              "        vertical-align: middle;\n",
              "    }\n",
              "\n",
              "    .dataframe tbody tr th {\n",
              "        vertical-align: top;\n",
              "    }\n",
              "\n",
              "    .dataframe thead th {\n",
              "        text-align: right;\n",
              "    }\n",
              "</style>\n",
              "<table border=\"1\" class=\"dataframe\">\n",
              "  <thead>\n",
              "    <tr style=\"text-align: right;\">\n",
              "      <th>Predicted</th>\n",
              "      <th>1</th>\n",
              "      <th>2</th>\n",
              "      <th>3</th>\n",
              "      <th>4</th>\n",
              "      <th>5</th>\n",
              "      <th>6</th>\n",
              "      <th>7</th>\n",
              "      <th>8</th>\n",
              "      <th>9</th>\n",
              "      <th>10</th>\n",
              "      <th>11</th>\n",
              "      <th>12</th>\n",
              "      <th>All</th>\n",
              "    </tr>\n",
              "    <tr>\n",
              "      <th>True</th>\n",
              "      <th></th>\n",
              "      <th></th>\n",
              "      <th></th>\n",
              "      <th></th>\n",
              "      <th></th>\n",
              "      <th></th>\n",
              "      <th></th>\n",
              "      <th></th>\n",
              "      <th></th>\n",
              "      <th></th>\n",
              "      <th></th>\n",
              "      <th></th>\n",
              "      <th></th>\n",
              "    </tr>\n",
              "  </thead>\n",
              "  <tbody>\n",
              "    <tr>\n",
              "      <th>1</th>\n",
              "      <td>491</td>\n",
              "      <td>3</td>\n",
              "      <td>2</td>\n",
              "      <td>0</td>\n",
              "      <td>0</td>\n",
              "      <td>0</td>\n",
              "      <td>0</td>\n",
              "      <td>0</td>\n",
              "      <td>0</td>\n",
              "      <td>0</td>\n",
              "      <td>0</td>\n",
              "      <td>0</td>\n",
              "      <td>496</td>\n",
              "    </tr>\n",
              "    <tr>\n",
              "      <th>2</th>\n",
              "      <td>15</td>\n",
              "      <td>455</td>\n",
              "      <td>0</td>\n",
              "      <td>0</td>\n",
              "      <td>0</td>\n",
              "      <td>0</td>\n",
              "      <td>1</td>\n",
              "      <td>0</td>\n",
              "      <td>0</td>\n",
              "      <td>0</td>\n",
              "      <td>0</td>\n",
              "      <td>0</td>\n",
              "      <td>471</td>\n",
              "    </tr>\n",
              "    <tr>\n",
              "      <th>3</th>\n",
              "      <td>4</td>\n",
              "      <td>18</td>\n",
              "      <td>398</td>\n",
              "      <td>0</td>\n",
              "      <td>0</td>\n",
              "      <td>0</td>\n",
              "      <td>0</td>\n",
              "      <td>0</td>\n",
              "      <td>0</td>\n",
              "      <td>0</td>\n",
              "      <td>0</td>\n",
              "      <td>0</td>\n",
              "      <td>420</td>\n",
              "    </tr>\n",
              "    <tr>\n",
              "      <th>4</th>\n",
              "      <td>0</td>\n",
              "      <td>1</td>\n",
              "      <td>0</td>\n",
              "      <td>458</td>\n",
              "      <td>48</td>\n",
              "      <td>0</td>\n",
              "      <td>0</td>\n",
              "      <td>1</td>\n",
              "      <td>0</td>\n",
              "      <td>0</td>\n",
              "      <td>0</td>\n",
              "      <td>0</td>\n",
              "      <td>508</td>\n",
              "    </tr>\n",
              "    <tr>\n",
              "      <th>5</th>\n",
              "      <td>0</td>\n",
              "      <td>0</td>\n",
              "      <td>0</td>\n",
              "      <td>10</td>\n",
              "      <td>546</td>\n",
              "      <td>0</td>\n",
              "      <td>0</td>\n",
              "      <td>0</td>\n",
              "      <td>0</td>\n",
              "      <td>0</td>\n",
              "      <td>0</td>\n",
              "      <td>0</td>\n",
              "      <td>556</td>\n",
              "    </tr>\n",
              "    <tr>\n",
              "      <th>6</th>\n",
              "      <td>0</td>\n",
              "      <td>0</td>\n",
              "      <td>0</td>\n",
              "      <td>0</td>\n",
              "      <td>0</td>\n",
              "      <td>545</td>\n",
              "      <td>0</td>\n",
              "      <td>0</td>\n",
              "      <td>0</td>\n",
              "      <td>0</td>\n",
              "      <td>0</td>\n",
              "      <td>0</td>\n",
              "      <td>545</td>\n",
              "    </tr>\n",
              "    <tr>\n",
              "      <th>7</th>\n",
              "      <td>0</td>\n",
              "      <td>1</td>\n",
              "      <td>0</td>\n",
              "      <td>2</td>\n",
              "      <td>0</td>\n",
              "      <td>0</td>\n",
              "      <td>19</td>\n",
              "      <td>0</td>\n",
              "      <td>0</td>\n",
              "      <td>0</td>\n",
              "      <td>1</td>\n",
              "      <td>0</td>\n",
              "      <td>23</td>\n",
              "    </tr>\n",
              "    <tr>\n",
              "      <th>8</th>\n",
              "      <td>0</td>\n",
              "      <td>0</td>\n",
              "      <td>0</td>\n",
              "      <td>0</td>\n",
              "      <td>0</td>\n",
              "      <td>0</td>\n",
              "      <td>0</td>\n",
              "      <td>10</td>\n",
              "      <td>0</td>\n",
              "      <td>0</td>\n",
              "      <td>0</td>\n",
              "      <td>0</td>\n",
              "      <td>10</td>\n",
              "    </tr>\n",
              "    <tr>\n",
              "      <th>9</th>\n",
              "      <td>0</td>\n",
              "      <td>0</td>\n",
              "      <td>0</td>\n",
              "      <td>0</td>\n",
              "      <td>0</td>\n",
              "      <td>0</td>\n",
              "      <td>0</td>\n",
              "      <td>0</td>\n",
              "      <td>21</td>\n",
              "      <td>0</td>\n",
              "      <td>11</td>\n",
              "      <td>0</td>\n",
              "      <td>32</td>\n",
              "    </tr>\n",
              "    <tr>\n",
              "      <th>10</th>\n",
              "      <td>0</td>\n",
              "      <td>0</td>\n",
              "      <td>0</td>\n",
              "      <td>0</td>\n",
              "      <td>0</td>\n",
              "      <td>0</td>\n",
              "      <td>0</td>\n",
              "      <td>0</td>\n",
              "      <td>0</td>\n",
              "      <td>19</td>\n",
              "      <td>0</td>\n",
              "      <td>6</td>\n",
              "      <td>25</td>\n",
              "    </tr>\n",
              "    <tr>\n",
              "      <th>11</th>\n",
              "      <td>0</td>\n",
              "      <td>0</td>\n",
              "      <td>0</td>\n",
              "      <td>2</td>\n",
              "      <td>0</td>\n",
              "      <td>2</td>\n",
              "      <td>0</td>\n",
              "      <td>0</td>\n",
              "      <td>9</td>\n",
              "      <td>0</td>\n",
              "      <td>36</td>\n",
              "      <td>0</td>\n",
              "      <td>49</td>\n",
              "    </tr>\n",
              "    <tr>\n",
              "      <th>12</th>\n",
              "      <td>0</td>\n",
              "      <td>0</td>\n",
              "      <td>0</td>\n",
              "      <td>0</td>\n",
              "      <td>0</td>\n",
              "      <td>0</td>\n",
              "      <td>0</td>\n",
              "      <td>0</td>\n",
              "      <td>0</td>\n",
              "      <td>7</td>\n",
              "      <td>3</td>\n",
              "      <td>17</td>\n",
              "      <td>27</td>\n",
              "    </tr>\n",
              "    <tr>\n",
              "      <th>All</th>\n",
              "      <td>510</td>\n",
              "      <td>478</td>\n",
              "      <td>400</td>\n",
              "      <td>472</td>\n",
              "      <td>594</td>\n",
              "      <td>547</td>\n",
              "      <td>20</td>\n",
              "      <td>11</td>\n",
              "      <td>30</td>\n",
              "      <td>26</td>\n",
              "      <td>51</td>\n",
              "      <td>23</td>\n",
              "      <td>3162</td>\n",
              "    </tr>\n",
              "  </tbody>\n",
              "</table>\n",
              "</div>"
            ],
            "text/plain": [
              "Predicted    1    2    3    4    5    6   7   8   9  10  11  12   All\n",
              "True                                                                 \n",
              "1          491    3    2    0    0    0   0   0   0   0   0   0   496\n",
              "2           15  455    0    0    0    0   1   0   0   0   0   0   471\n",
              "3            4   18  398    0    0    0   0   0   0   0   0   0   420\n",
              "4            0    1    0  458   48    0   0   1   0   0   0   0   508\n",
              "5            0    0    0   10  546    0   0   0   0   0   0   0   556\n",
              "6            0    0    0    0    0  545   0   0   0   0   0   0   545\n",
              "7            0    1    0    2    0    0  19   0   0   0   1   0    23\n",
              "8            0    0    0    0    0    0   0  10   0   0   0   0    10\n",
              "9            0    0    0    0    0    0   0   0  21   0  11   0    32\n",
              "10           0    0    0    0    0    0   0   0   0  19   0   6    25\n",
              "11           0    0    0    2    0    2   0   0   9   0  36   0    49\n",
              "12           0    0    0    0    0    0   0   0   0   7   3  17    27\n",
              "All        510  478  400  472  594  547  20  11  30  26  51  23  3162"
            ]
          },
          "metadata": {
            "tags": []
          },
          "execution_count": 14
        }
      ]
    },
    {
      "cell_type": "code",
      "metadata": {
        "id": "JjHEMe9aGtNh",
        "outputId": "b7a02896-f1a7-4843-e996-09e4b2ed03a9",
        "colab": {
          "base_uri": "https://localhost:8080/",
          "height": 446
        }
      },
      "source": [
        "crosstab_clean = crosstab.iloc[:-1, :-1]\n",
        "crosstab_clean.columns = activity_df.activity_label.values\n",
        "crosstab_clean.index = activity_df.activity_label.values\n",
        "crosstab_clean"
      ],
      "execution_count": null,
      "outputs": [
        {
          "output_type": "execute_result",
          "data": {
            "text/html": [
              "<div>\n",
              "<style scoped>\n",
              "    .dataframe tbody tr th:only-of-type {\n",
              "        vertical-align: middle;\n",
              "    }\n",
              "\n",
              "    .dataframe tbody tr th {\n",
              "        vertical-align: top;\n",
              "    }\n",
              "\n",
              "    .dataframe thead th {\n",
              "        text-align: right;\n",
              "    }\n",
              "</style>\n",
              "<table border=\"1\" class=\"dataframe\">\n",
              "  <thead>\n",
              "    <tr style=\"text-align: right;\">\n",
              "      <th></th>\n",
              "      <th>WALKING</th>\n",
              "      <th>WALKING_UPSTAIRS</th>\n",
              "      <th>WALKING_DOWNSTAIRS</th>\n",
              "      <th>SITTING</th>\n",
              "      <th>STANDING</th>\n",
              "      <th>LAYING</th>\n",
              "      <th>STAND_TO_SIT</th>\n",
              "      <th>SIT_TO_STAND</th>\n",
              "      <th>SIT_TO_LIE</th>\n",
              "      <th>LIE_TO_SIT</th>\n",
              "      <th>STAND_TO_LIE</th>\n",
              "      <th>LIE_TO_STAND</th>\n",
              "    </tr>\n",
              "  </thead>\n",
              "  <tbody>\n",
              "    <tr>\n",
              "      <th>WALKING</th>\n",
              "      <td>491</td>\n",
              "      <td>3</td>\n",
              "      <td>2</td>\n",
              "      <td>0</td>\n",
              "      <td>0</td>\n",
              "      <td>0</td>\n",
              "      <td>0</td>\n",
              "      <td>0</td>\n",
              "      <td>0</td>\n",
              "      <td>0</td>\n",
              "      <td>0</td>\n",
              "      <td>0</td>\n",
              "    </tr>\n",
              "    <tr>\n",
              "      <th>WALKING_UPSTAIRS</th>\n",
              "      <td>15</td>\n",
              "      <td>455</td>\n",
              "      <td>0</td>\n",
              "      <td>0</td>\n",
              "      <td>0</td>\n",
              "      <td>0</td>\n",
              "      <td>1</td>\n",
              "      <td>0</td>\n",
              "      <td>0</td>\n",
              "      <td>0</td>\n",
              "      <td>0</td>\n",
              "      <td>0</td>\n",
              "    </tr>\n",
              "    <tr>\n",
              "      <th>WALKING_DOWNSTAIRS</th>\n",
              "      <td>4</td>\n",
              "      <td>18</td>\n",
              "      <td>398</td>\n",
              "      <td>0</td>\n",
              "      <td>0</td>\n",
              "      <td>0</td>\n",
              "      <td>0</td>\n",
              "      <td>0</td>\n",
              "      <td>0</td>\n",
              "      <td>0</td>\n",
              "      <td>0</td>\n",
              "      <td>0</td>\n",
              "    </tr>\n",
              "    <tr>\n",
              "      <th>SITTING</th>\n",
              "      <td>0</td>\n",
              "      <td>1</td>\n",
              "      <td>0</td>\n",
              "      <td>458</td>\n",
              "      <td>48</td>\n",
              "      <td>0</td>\n",
              "      <td>0</td>\n",
              "      <td>1</td>\n",
              "      <td>0</td>\n",
              "      <td>0</td>\n",
              "      <td>0</td>\n",
              "      <td>0</td>\n",
              "    </tr>\n",
              "    <tr>\n",
              "      <th>STANDING</th>\n",
              "      <td>0</td>\n",
              "      <td>0</td>\n",
              "      <td>0</td>\n",
              "      <td>10</td>\n",
              "      <td>546</td>\n",
              "      <td>0</td>\n",
              "      <td>0</td>\n",
              "      <td>0</td>\n",
              "      <td>0</td>\n",
              "      <td>0</td>\n",
              "      <td>0</td>\n",
              "      <td>0</td>\n",
              "    </tr>\n",
              "    <tr>\n",
              "      <th>LAYING</th>\n",
              "      <td>0</td>\n",
              "      <td>0</td>\n",
              "      <td>0</td>\n",
              "      <td>0</td>\n",
              "      <td>0</td>\n",
              "      <td>545</td>\n",
              "      <td>0</td>\n",
              "      <td>0</td>\n",
              "      <td>0</td>\n",
              "      <td>0</td>\n",
              "      <td>0</td>\n",
              "      <td>0</td>\n",
              "    </tr>\n",
              "    <tr>\n",
              "      <th>STAND_TO_SIT</th>\n",
              "      <td>0</td>\n",
              "      <td>1</td>\n",
              "      <td>0</td>\n",
              "      <td>2</td>\n",
              "      <td>0</td>\n",
              "      <td>0</td>\n",
              "      <td>19</td>\n",
              "      <td>0</td>\n",
              "      <td>0</td>\n",
              "      <td>0</td>\n",
              "      <td>1</td>\n",
              "      <td>0</td>\n",
              "    </tr>\n",
              "    <tr>\n",
              "      <th>SIT_TO_STAND</th>\n",
              "      <td>0</td>\n",
              "      <td>0</td>\n",
              "      <td>0</td>\n",
              "      <td>0</td>\n",
              "      <td>0</td>\n",
              "      <td>0</td>\n",
              "      <td>0</td>\n",
              "      <td>10</td>\n",
              "      <td>0</td>\n",
              "      <td>0</td>\n",
              "      <td>0</td>\n",
              "      <td>0</td>\n",
              "    </tr>\n",
              "    <tr>\n",
              "      <th>SIT_TO_LIE</th>\n",
              "      <td>0</td>\n",
              "      <td>0</td>\n",
              "      <td>0</td>\n",
              "      <td>0</td>\n",
              "      <td>0</td>\n",
              "      <td>0</td>\n",
              "      <td>0</td>\n",
              "      <td>0</td>\n",
              "      <td>21</td>\n",
              "      <td>0</td>\n",
              "      <td>11</td>\n",
              "      <td>0</td>\n",
              "    </tr>\n",
              "    <tr>\n",
              "      <th>LIE_TO_SIT</th>\n",
              "      <td>0</td>\n",
              "      <td>0</td>\n",
              "      <td>0</td>\n",
              "      <td>0</td>\n",
              "      <td>0</td>\n",
              "      <td>0</td>\n",
              "      <td>0</td>\n",
              "      <td>0</td>\n",
              "      <td>0</td>\n",
              "      <td>19</td>\n",
              "      <td>0</td>\n",
              "      <td>6</td>\n",
              "    </tr>\n",
              "    <tr>\n",
              "      <th>STAND_TO_LIE</th>\n",
              "      <td>0</td>\n",
              "      <td>0</td>\n",
              "      <td>0</td>\n",
              "      <td>2</td>\n",
              "      <td>0</td>\n",
              "      <td>2</td>\n",
              "      <td>0</td>\n",
              "      <td>0</td>\n",
              "      <td>9</td>\n",
              "      <td>0</td>\n",
              "      <td>36</td>\n",
              "      <td>0</td>\n",
              "    </tr>\n",
              "    <tr>\n",
              "      <th>LIE_TO_STAND</th>\n",
              "      <td>0</td>\n",
              "      <td>0</td>\n",
              "      <td>0</td>\n",
              "      <td>0</td>\n",
              "      <td>0</td>\n",
              "      <td>0</td>\n",
              "      <td>0</td>\n",
              "      <td>0</td>\n",
              "      <td>0</td>\n",
              "      <td>7</td>\n",
              "      <td>3</td>\n",
              "      <td>17</td>\n",
              "    </tr>\n",
              "  </tbody>\n",
              "</table>\n",
              "</div>"
            ],
            "text/plain": [
              "                    WALKING  WALKING_UPSTAIRS  ...  STAND_TO_LIE  LIE_TO_STAND\n",
              "WALKING                 491                 3  ...             0             0\n",
              "WALKING_UPSTAIRS         15               455  ...             0             0\n",
              "WALKING_DOWNSTAIRS        4                18  ...             0             0\n",
              "SITTING                   0                 1  ...             0             0\n",
              "STANDING                  0                 0  ...             0             0\n",
              "LAYING                    0                 0  ...             0             0\n",
              "STAND_TO_SIT              0                 1  ...             1             0\n",
              "SIT_TO_STAND              0                 0  ...             0             0\n",
              "SIT_TO_LIE                0                 0  ...            11             0\n",
              "LIE_TO_SIT                0                 0  ...             0             6\n",
              "STAND_TO_LIE              0                 0  ...            36             0\n",
              "LIE_TO_STAND              0                 0  ...             3            17\n",
              "\n",
              "[12 rows x 12 columns]"
            ]
          },
          "metadata": {
            "tags": []
          },
          "execution_count": 15
        }
      ]
    },
    {
      "cell_type": "code",
      "metadata": {
        "id": "Fh58lcuXJxkd",
        "outputId": "aebcfc98-0dc8-4eec-c504-5d1f380a7c84",
        "colab": {
          "base_uri": "https://localhost:8080/",
          "height": 34
        }
      },
      "source": [
        "x_test_data = pd.read_table('test.txt', header = None, sep = \" \")\n",
        "if clf.predict(x_test_data) == 1:\n",
        "  print(activity_df.activity_label[0])\n",
        "elif clf.predict(x_test_data) == 2:\n",
        "  print(activity_df.activity_label[1])\n",
        "elif clf.predict(x_test_data) == 3:\n",
        "  print(activity_df.activity_label[2])\n",
        "elif clf.predict(x_test_data) == 4:\n",
        "  print(activity_df.activity_label[3])\n",
        "elif clf.predict(x_test_data) == 5:\n",
        "  print(activity_df.activity_label[4])\n",
        "elif clf.predict(x_test_data) == 6:\n",
        "  print(activity_df.activity_label[5])\n",
        "elif clf.predict(x_test_data) == 7:\n",
        "  print(activity_df.activity_label[6])\n",
        "elif clf.predict(x_test_data) == 8:\n",
        "  print(activity_df.activity_label[7])\n",
        "elif clf.predict(x_test_data) == 9:\n",
        "  print(activity_df.activity_label[8])\n",
        "elif clf.predict(x_test_data) == 10:\n",
        "  print(activity_df.activity_label[9])\n",
        "elif clf.predict(x_test_data) == 11:\n",
        "  print(activity_df.activity_label[10])\n",
        "elif clf.predict(x_test_data) == 12:\n",
        "  print(activity_df.activity_label[11])\n",
        "else:\n",
        "  print(\"No Activity Found\")"
      ],
      "execution_count": null,
      "outputs": [
        {
          "output_type": "stream",
          "text": [
            "STANDING\n"
          ],
          "name": "stdout"
        }
      ]
    },
    {
      "cell_type": "code",
      "metadata": {
        "id": "OBDTKF84UNqJ",
        "outputId": "96db6d38-4a98-42c9-80b5-d48eb1f7ffb7",
        "colab": {
          "base_uri": "https://localhost:8080/",
          "height": 34
        }
      },
      "source": [
        "from joblib import dump, load\n",
        "dump(clf, 'filename.joblib')"
      ],
      "execution_count": null,
      "outputs": [
        {
          "output_type": "execute_result",
          "data": {
            "text/plain": [
              "['filename.joblib']"
            ]
          },
          "metadata": {
            "tags": []
          },
          "execution_count": 17
        }
      ]
    },
    {
      "cell_type": "code",
      "metadata": {
        "id": "fmtUrzHbUt1j"
      },
      "source": [
        "clf = load('filename.joblib')"
      ],
      "execution_count": null,
      "outputs": []
    },
    {
      "cell_type": "markdown",
      "metadata": {
        "id": "j9DXLYnOHAF9"
      },
      "source": [
        "## Predicting Walking vs. Not Walking"
      ]
    },
    {
      "cell_type": "code",
      "metadata": {
        "id": "IS63bmpiG5Ul"
      },
      "source": [
        "y_train['walking_flag'] = y_train.activity_id.apply(lambda x: 1 if x <= 3 else 0)\n",
        "y_test['walking_flag'] = y_test.activity_id.apply(lambda x: 1 if x <= 3 else 0)"
      ],
      "execution_count": null,
      "outputs": []
    },
    {
      "cell_type": "code",
      "metadata": {
        "id": "UxYlvUmEHDNI",
        "outputId": "ec69c056-142c-4029-ae19-3959e303cc46",
        "colab": {
          "base_uri": "https://localhost:8080/",
          "height": 51
        }
      },
      "source": [
        "from sklearn.svm import SVC\n",
        "\n",
        "Cs = np.logspace(-6, 3, 10)\n",
        "parameters = [{'kernel': ['rbf'], 'C': Cs},\n",
        "              {'kernel': ['linear'], 'C': Cs}]\n",
        "\n",
        "svc = SVC(random_state = 12)\n",
        "\n",
        "clf_binary = GridSearchCV(estimator = svc, param_grid = parameters, cv = 5, n_jobs = -1)\n",
        "clf_binary.fit(x_train.values, y_train.walking_flag.values.flatten())\n",
        "\n",
        "print(clf_binary.best_params_)\n",
        "print(clf_binary.best_score_)"
      ],
      "execution_count": null,
      "outputs": [
        {
          "output_type": "stream",
          "text": [
            "{'C': 0.01, 'kernel': 'linear'}\n",
            "0.9989702332265115\n"
          ],
          "name": "stdout"
        }
      ]
    },
    {
      "cell_type": "code",
      "metadata": {
        "id": "EILYPaeJHHkS",
        "outputId": "6e44ed1f-f640-456f-e2b5-12c7c4050809",
        "colab": {
          "base_uri": "https://localhost:8080/",
          "height": 34
        }
      },
      "source": [
        "clf_binary.score(x_test, y_test.walking_flag)"
      ],
      "execution_count": null,
      "outputs": [
        {
          "output_type": "execute_result",
          "data": {
            "text/plain": [
              "0.9996837444655281"
            ]
          },
          "metadata": {
            "tags": []
          },
          "execution_count": 48
        }
      ]
    },
    {
      "cell_type": "code",
      "metadata": {
        "id": "-HurHDFIHR0G",
        "outputId": "37fe6253-04ed-4ec8-b1d9-976640095b44",
        "colab": {
          "base_uri": "https://localhost:8080/",
          "height": 173
        }
      },
      "source": [
        "crosstab_binary = pd.crosstab(y_test.walking_flag.values.flatten(), clf_binary.predict(x_test),\n",
        "                          rownames=['True'], colnames=['Predicted'],\n",
        "                          margins=True)\n",
        "crosstab_binary"
      ],
      "execution_count": null,
      "outputs": [
        {
          "output_type": "execute_result",
          "data": {
            "text/html": [
              "<div>\n",
              "<style scoped>\n",
              "    .dataframe tbody tr th:only-of-type {\n",
              "        vertical-align: middle;\n",
              "    }\n",
              "\n",
              "    .dataframe tbody tr th {\n",
              "        vertical-align: top;\n",
              "    }\n",
              "\n",
              "    .dataframe thead th {\n",
              "        text-align: right;\n",
              "    }\n",
              "</style>\n",
              "<table border=\"1\" class=\"dataframe\">\n",
              "  <thead>\n",
              "    <tr style=\"text-align: right;\">\n",
              "      <th>Predicted</th>\n",
              "      <th>0</th>\n",
              "      <th>1</th>\n",
              "      <th>All</th>\n",
              "    </tr>\n",
              "    <tr>\n",
              "      <th>True</th>\n",
              "      <th></th>\n",
              "      <th></th>\n",
              "      <th></th>\n",
              "    </tr>\n",
              "  </thead>\n",
              "  <tbody>\n",
              "    <tr>\n",
              "      <th>0</th>\n",
              "      <td>1774</td>\n",
              "      <td>1</td>\n",
              "      <td>1775</td>\n",
              "    </tr>\n",
              "    <tr>\n",
              "      <th>1</th>\n",
              "      <td>0</td>\n",
              "      <td>1387</td>\n",
              "      <td>1387</td>\n",
              "    </tr>\n",
              "    <tr>\n",
              "      <th>All</th>\n",
              "      <td>1774</td>\n",
              "      <td>1388</td>\n",
              "      <td>3162</td>\n",
              "    </tr>\n",
              "  </tbody>\n",
              "</table>\n",
              "</div>"
            ],
            "text/plain": [
              "Predicted     0     1   All\n",
              "True                       \n",
              "0          1774     1  1775\n",
              "1             0  1387  1387\n",
              "All        1774  1388  3162"
            ]
          },
          "metadata": {
            "tags": []
          },
          "execution_count": 49
        }
      ]
    },
    {
      "cell_type": "code",
      "metadata": {
        "id": "R2ujpQ2DHVOk"
      },
      "source": [
        ""
      ],
      "execution_count": null,
      "outputs": []
    }
  ]
}